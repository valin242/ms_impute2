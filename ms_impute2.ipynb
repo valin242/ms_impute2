{
 "cells": [
  {
   "cell_type": "markdown",
   "metadata": {},
   "source": [
    "# Proteomics Data Analysis - Part 2: Python Script\n",
    "## Description:\n",
    "Loads preprocessed datasets from R, applies basic (mean, median, knn) and advanced imputation (MissForest, DAE), trains ML models (RF, XGBoost, MLP), evaluates performance, and visualizes results."
   ]
  },
  {
   "cell_type": "code",
   "execution_count": 4,
   "metadata": {},
   "outputs": [],
   "source": [
    "# Import packages\n",
    "import pandas as pd\n",
    "import numpy as np\n",
    "import matplotlib.pyplot as plt\n",
    "import os\n",
    "import time\n",
    "import seaborn as sns\n",
    "from sklearn.experimental import enable_iterative_imputer\n",
    "from sklearn.impute import IterativeImputer\n",
    "from sklearn.impute import SimpleImputer\n",
    "import logging"
   ]
  },
  {
   "cell_type": "code",
   "execution_count": 5,
   "metadata": {},
   "outputs": [],
   "source": [
    "# Set up logging\n",
    "logging.basicConfig(level=logging.INFO, format='%(asctime)s - %(levelname)s - %(message)s')"
   ]
  },
  {
   "cell_type": "markdown",
   "metadata": {},
   "source": [
    "## Intialization of Global Variables"
   ]
  },
  {
   "cell_type": "code",
   "execution_count": 29,
   "metadata": {},
   "outputs": [],
   "source": [
    "# Specify paths and global variables\n",
    "DATA_DIR = \"../R\"\n",
    "RESULTS_DIR = \"../../results/Python\"\n",
    "LABEL_FILE = \"../../data/sample_metadata.csv\"\n",
    "LABEL_COL = \"Condition\"\n",
    "Sample_ID_COL = \"SampleName\"\n",
    "\n",
    "TEST_SIZE = 0.3\n",
    "RANDOM_STATE = 42"
   ]
  },
  {
   "cell_type": "markdown",
   "metadata": {},
   "source": [
    "## Functions"
   ]
  },
  {
   "cell_type": "markdown",
   "metadata": {},
   "source": [
    "Loading .csv files from directory"
   ]
  },
  {
   "cell_type": "code",
   "execution_count": 31,
   "metadata": {},
   "outputs": [],
   "source": [
    "# Loads all .csv files in the data directory into pandas DataFrames\n",
    "def load_data(data_dir):\n",
    "    data = {}\n",
    "    logging.info(f\"Number of files: {len(os.listdir(data_dir))}\")\n",
    "    for filename in os.listdir(data_dir):\n",
    "        if filename.endswith(\".csv\"):\n",
    "            file_path = os.path.join(data_dir, filename)\n",
    "            dataset_name = filename.split(\".\")[0]\n",
    "            try:\n",
    "                # Assume first column is the index (protein IDs)\n",
    "                data[dataset_name] = pd.read_csv(file_path, index_col=0)\n",
    "            except Exception as e:\n",
    "                logging.error(f\"Error loading {filename}: {e}\")\n",
    "                continue\n",
    "    logging.info(f\"Loaded {len(data)} datasets from {data_dir}\")\n",
    "    return data"
   ]
  },
  {
   "cell_type": "markdown",
   "metadata": {},
   "source": [
    "Basic Imputation Functions"
   ]
  },
  {
   "cell_type": "code",
   "execution_count": 39,
   "metadata": {},
   "outputs": [],
   "source": [
    "def impute_mean(df):\n",
    "    \"\"\"\n",
    "    Impute missing values with the mean of each column.\n",
    "    \"\"\"\n",
    "    imputer = SimpleImputer(strategy=\"mean\")\n",
    "    imputed_data = imputer.fit_transform(df)\n",
    "    imputed_df = pd.DataFrame(imputed_data, columns=df.columns, index=df.index)\n",
    "    logging.info(\"(impute_mean): Imputed missing values with mean\")\n",
    "    return imputed_df\n",
    "\n",
    "def impute_median(df):\n",
    "    \"\"\"\n",
    "    Impute missing values with the median of each column.\n",
    "    \"\"\"\n",
    "    imputer = SimpleImputer(strategy=\"median\")\n",
    "    imputed_data = imputer.fit_transform(df)\n",
    "    imputed_df = pd.DataFrame(imputed_data, columns=df.columns, index=df.index)\n",
    "    logging.info(\"(impute_median): Imputed missing values with median\")\n",
    "    return imputed_df\n",
    "\n",
    "def impute_knn(df, n_neighbors=5):\n",
    "    \"\"\"\n",
    "    Impute missing values using K-Nearest Neighbors.\n",
    "    \"\"\"\n",
    "    from sklearn.impute import KNNImputer\n",
    "    imputer = KNNImputer(n_neighbors=n_neighbors)\n",
    "    imputed_data = imputer.fit_transform(df)\n",
    "    imputed_df = pd.DataFrame(imputed_data, columns=df.columns, index=df.index)\n",
    "    logging.info(\"(impute_knn): Imputed missing values using KNN\")\n",
    "    return imputed_df\n",
    "\n",
    "# Inmputation functions dictionary\n",
    "impute_func = {\n",
    "    \"mean\": impute_mean,\n",
    "    \"median\": impute_median,\n",
    "    \"knn\": impute_knn\n",
    "}"
   ]
  },
  {
   "cell_type": "markdown",
   "metadata": {},
   "source": []
  },
  {
   "cell_type": "code",
   "execution_count": null,
   "metadata": {},
   "outputs": [],
   "source": []
  },
  {
   "cell_type": "markdown",
   "metadata": {},
   "source": [
    "## Basic Imputations"
   ]
  },
  {
   "cell_type": "code",
   "execution_count": 40,
   "metadata": {},
   "outputs": [
    {
     "name": "stderr",
     "output_type": "stream",
     "text": [
      "2025-04-08 23:43:56,977 - INFO - Number of files: 10\n",
      "2025-04-08 23:43:57,242 - INFO - Loaded 10 datasets from ../R\n"
     ]
    }
   ],
   "source": [
    "# Load the datasets from the directory\n",
    "datasets = load_data(DATA_DIR)\n",
    "# Load the sample metadata\n",
    "metadata = pd.read_csv(LABEL_FILE)\n"
   ]
  },
  {
   "cell_type": "code",
   "execution_count": 42,
   "metadata": {},
   "outputs": [
    {
     "name": "stderr",
     "output_type": "stream",
     "text": [
      "2025-04-08 23:45:13,745 - INFO - Processing dataset: missing_MAR_10\n",
      "2025-04-08 23:45:13,747 - INFO - Missing values in dataset missing_MAR_10: 8811\n",
      "2025-04-08 23:45:13,748 - INFO - Imputing with method: mean\n",
      "2025-04-08 23:45:13,754 - INFO - (impute_mean): Imputed missing values with mean\n",
      "2025-04-08 23:45:13,881 - INFO - Saved imputed dataset to ../../results/Python\\missing_MAR_10_mean_imputed.csv\n",
      "2025-04-08 23:45:13,882 - INFO - Imputing with method: median\n",
      "2025-04-08 23:45:13,894 - INFO - (impute_median): Imputed missing values with median\n",
      "2025-04-08 23:45:14,010 - INFO - Saved imputed dataset to ../../results/Python\\missing_MAR_10_median_imputed.csv\n",
      "2025-04-08 23:45:14,011 - INFO - Imputing with method: knn\n",
      "2025-04-08 23:45:16,619 - INFO - (impute_knn): Imputed missing values using KNN\n",
      "2025-04-08 23:45:16,720 - INFO - Saved imputed dataset to ../../results/Python\\missing_MAR_10_knn_imputed.csv\n",
      "2025-04-08 23:45:16,721 - INFO - Processing dataset: missing_MAR_20\n",
      "2025-04-08 23:45:16,722 - INFO - Missing values in dataset missing_MAR_20: 11540\n",
      "2025-04-08 23:45:16,723 - INFO - Imputing with method: mean\n",
      "2025-04-08 23:45:16,727 - INFO - (impute_mean): Imputed missing values with mean\n",
      "2025-04-08 23:45:16,825 - INFO - Saved imputed dataset to ../../results/Python\\missing_MAR_20_mean_imputed.csv\n",
      "2025-04-08 23:45:16,825 - INFO - Imputing with method: median\n",
      "2025-04-08 23:45:16,835 - INFO - (impute_median): Imputed missing values with median\n",
      "2025-04-08 23:45:16,933 - INFO - Saved imputed dataset to ../../results/Python\\missing_MAR_20_median_imputed.csv\n",
      "2025-04-08 23:45:16,934 - INFO - Imputing with method: knn\n",
      "2025-04-08 23:45:20,453 - INFO - (impute_knn): Imputed missing values using KNN\n",
      "2025-04-08 23:45:20,553 - INFO - Saved imputed dataset to ../../results/Python\\missing_MAR_20_knn_imputed.csv\n",
      "2025-04-08 23:45:20,554 - INFO - Processing dataset: missing_MAR_30\n",
      "2025-04-08 23:45:20,556 - INFO - Missing values in dataset missing_MAR_30: 17310\n",
      "2025-04-08 23:45:20,556 - INFO - Imputing with method: mean\n",
      "2025-04-08 23:45:20,562 - INFO - (impute_mean): Imputed missing values with mean\n",
      "2025-04-08 23:45:20,661 - INFO - Saved imputed dataset to ../../results/Python\\missing_MAR_30_mean_imputed.csv\n",
      "2025-04-08 23:45:20,662 - INFO - Imputing with method: median\n",
      "2025-04-08 23:45:20,672 - INFO - (impute_median): Imputed missing values with median\n",
      "2025-04-08 23:45:20,771 - INFO - Saved imputed dataset to ../../results/Python\\missing_MAR_30_median_imputed.csv\n",
      "2025-04-08 23:45:20,772 - INFO - Imputing with method: knn\n",
      "2025-04-08 23:45:25,571 - INFO - (impute_knn): Imputed missing values using KNN\n",
      "2025-04-08 23:45:25,671 - INFO - Saved imputed dataset to ../../results/Python\\missing_MAR_30_knn_imputed.csv\n",
      "2025-04-08 23:45:25,672 - INFO - Processing dataset: missing_MCAR_10\n",
      "2025-04-08 23:45:25,674 - INFO - Missing values in dataset missing_MCAR_10: 14581\n",
      "2025-04-08 23:45:25,674 - INFO - Imputing with method: mean\n",
      "2025-04-08 23:45:25,678 - INFO - (impute_mean): Imputed missing values with mean\n",
      "2025-04-08 23:45:25,777 - INFO - Saved imputed dataset to ../../results/Python\\missing_MCAR_10_mean_imputed.csv\n",
      "2025-04-08 23:45:25,778 - INFO - Imputing with method: median\n",
      "2025-04-08 23:45:25,788 - INFO - (impute_median): Imputed missing values with median\n",
      "2025-04-08 23:45:25,917 - INFO - Saved imputed dataset to ../../results/Python\\missing_MCAR_10_median_imputed.csv\n",
      "2025-04-08 23:45:25,917 - INFO - Imputing with method: knn\n",
      "2025-04-08 23:45:30,379 - INFO - (impute_knn): Imputed missing values using KNN\n",
      "2025-04-08 23:45:30,483 - INFO - Saved imputed dataset to ../../results/Python\\missing_MCAR_10_knn_imputed.csv\n",
      "2025-04-08 23:45:30,484 - INFO - Processing dataset: missing_MCAR_20\n",
      "2025-04-08 23:45:30,486 - INFO - Missing values in dataset missing_MCAR_20: 20351\n",
      "2025-04-08 23:45:30,487 - INFO - Imputing with method: mean\n",
      "2025-04-08 23:45:30,494 - INFO - (impute_mean): Imputed missing values with mean\n",
      "2025-04-08 23:45:30,600 - INFO - Saved imputed dataset to ../../results/Python\\missing_MCAR_20_mean_imputed.csv\n",
      "2025-04-08 23:45:30,600 - INFO - Imputing with method: median\n",
      "2025-04-08 23:45:30,610 - INFO - (impute_median): Imputed missing values with median\n",
      "2025-04-08 23:45:30,709 - INFO - Saved imputed dataset to ../../results/Python\\missing_MCAR_20_median_imputed.csv\n",
      "2025-04-08 23:45:30,710 - INFO - Imputing with method: knn\n",
      "2025-04-08 23:45:36,716 - INFO - (impute_knn): Imputed missing values using KNN\n",
      "2025-04-08 23:45:36,817 - INFO - Saved imputed dataset to ../../results/Python\\missing_MCAR_20_knn_imputed.csv\n",
      "2025-04-08 23:45:36,818 - INFO - Processing dataset: missing_MCAR_30\n",
      "2025-04-08 23:45:36,820 - INFO - Missing values in dataset missing_MCAR_30: 26121\n",
      "2025-04-08 23:45:36,820 - INFO - Imputing with method: mean\n",
      "2025-04-08 23:45:36,826 - INFO - (impute_mean): Imputed missing values with mean\n",
      "2025-04-08 23:45:36,927 - INFO - Saved imputed dataset to ../../results/Python\\missing_MCAR_30_mean_imputed.csv\n",
      "2025-04-08 23:45:36,927 - INFO - Imputing with method: median\n",
      "2025-04-08 23:45:36,937 - INFO - (impute_median): Imputed missing values with median\n",
      "2025-04-08 23:45:37,040 - INFO - Saved imputed dataset to ../../results/Python\\missing_MCAR_30_median_imputed.csv\n",
      "2025-04-08 23:45:37,041 - INFO - Imputing with method: knn\n",
      "2025-04-08 23:45:44,192 - INFO - (impute_knn): Imputed missing values using KNN\n",
      "2025-04-08 23:45:44,295 - INFO - Saved imputed dataset to ../../results/Python\\missing_MCAR_30_knn_imputed.csv\n",
      "2025-04-08 23:45:44,295 - INFO - Processing dataset: missing_MNAR_10\n",
      "2025-04-08 23:45:44,296 - INFO - Missing values in dataset missing_MNAR_10: 14581\n",
      "2025-04-08 23:45:44,297 - INFO - Imputing with method: mean\n",
      "2025-04-08 23:45:44,302 - INFO - (impute_mean): Imputed missing values with mean\n",
      "2025-04-08 23:45:44,400 - INFO - Saved imputed dataset to ../../results/Python\\missing_MNAR_10_mean_imputed.csv\n",
      "2025-04-08 23:45:44,401 - INFO - Imputing with method: median\n",
      "2025-04-08 23:45:44,410 - INFO - (impute_median): Imputed missing values with median\n",
      "2025-04-08 23:45:44,508 - INFO - Saved imputed dataset to ../../results/Python\\missing_MNAR_10_median_imputed.csv\n",
      "2025-04-08 23:45:44,509 - INFO - Imputing with method: knn\n",
      "2025-04-08 23:45:48,659 - INFO - (impute_knn): Imputed missing values using KNN\n",
      "2025-04-08 23:45:48,757 - INFO - Saved imputed dataset to ../../results/Python\\missing_MNAR_10_knn_imputed.csv\n",
      "2025-04-08 23:45:48,759 - INFO - Processing dataset: missing_MNAR_20\n",
      "2025-04-08 23:45:48,762 - INFO - Missing values in dataset missing_MNAR_20: 20351\n",
      "2025-04-08 23:45:48,763 - INFO - Imputing with method: mean\n",
      "2025-04-08 23:45:48,769 - INFO - (impute_mean): Imputed missing values with mean\n",
      "2025-04-08 23:45:48,867 - INFO - Saved imputed dataset to ../../results/Python\\missing_MNAR_20_mean_imputed.csv\n",
      "2025-04-08 23:45:48,867 - INFO - Imputing with method: median\n",
      "2025-04-08 23:45:48,877 - INFO - (impute_median): Imputed missing values with median\n",
      "2025-04-08 23:45:48,972 - INFO - Saved imputed dataset to ../../results/Python\\missing_MNAR_20_median_imputed.csv\n",
      "2025-04-08 23:45:48,973 - INFO - Imputing with method: knn\n",
      "2025-04-08 23:45:54,367 - INFO - (impute_knn): Imputed missing values using KNN\n",
      "2025-04-08 23:45:54,466 - INFO - Saved imputed dataset to ../../results/Python\\missing_MNAR_20_knn_imputed.csv\n",
      "2025-04-08 23:45:54,467 - INFO - Processing dataset: missing_MNAR_30\n",
      "2025-04-08 23:45:54,469 - INFO - Missing values in dataset missing_MNAR_30: 26121\n",
      "2025-04-08 23:45:54,469 - INFO - Imputing with method: mean\n",
      "2025-04-08 23:45:54,477 - INFO - (impute_mean): Imputed missing values with mean\n",
      "2025-04-08 23:45:54,574 - INFO - Saved imputed dataset to ../../results/Python\\missing_MNAR_30_mean_imputed.csv\n",
      "2025-04-08 23:45:54,575 - INFO - Imputing with method: median\n",
      "2025-04-08 23:45:54,584 - INFO - (impute_median): Imputed missing values with median\n",
      "2025-04-08 23:45:54,678 - INFO - Saved imputed dataset to ../../results/Python\\missing_MNAR_30_median_imputed.csv\n",
      "2025-04-08 23:45:54,679 - INFO - Imputing with method: knn\n",
      "2025-04-08 23:46:00,760 - INFO - (impute_knn): Imputed missing values using KNN\n",
      "2025-04-08 23:46:00,859 - INFO - Saved imputed dataset to ../../results/Python\\missing_MNAR_30_knn_imputed.csv\n",
      "2025-04-08 23:46:00,859 - INFO - Processing dataset: normalized_data_complete\n",
      "2025-04-08 23:46:00,861 - INFO - Missing values in dataset normalized_data_complete: 8811\n",
      "2025-04-08 23:46:00,861 - INFO - Imputing with method: mean\n",
      "2025-04-08 23:46:00,866 - INFO - (impute_mean): Imputed missing values with mean\n",
      "2025-04-08 23:46:00,962 - INFO - Saved imputed dataset to ../../results/Python\\normalized_data_complete_mean_imputed.csv\n",
      "2025-04-08 23:46:00,963 - INFO - Imputing with method: median\n",
      "2025-04-08 23:46:00,972 - INFO - (impute_median): Imputed missing values with median\n",
      "2025-04-08 23:46:01,064 - INFO - Saved imputed dataset to ../../results/Python\\normalized_data_complete_median_imputed.csv\n",
      "2025-04-08 23:46:01,065 - INFO - Imputing with method: knn\n",
      "2025-04-08 23:46:03,200 - INFO - (impute_knn): Imputed missing values using KNN\n",
      "2025-04-08 23:46:03,296 - INFO - Saved imputed dataset to ../../results/Python\\normalized_data_complete_knn_imputed.csv\n"
     ]
    }
   ],
   "source": [
    "# Run the imputation methods on each dataset\n",
    "for name, dataset in datasets.items():\n",
    "    logging.info(f\"Processing dataset: {name}\")\n",
    "\n",
    "    # Check if the dataset is empty\n",
    "    if dataset.empty:\n",
    "        logging.warning(f\"Dataset {name} is empty. Skipping.\")\n",
    "        continue\n",
    "    \n",
    "    # Check for missing values\n",
    "    logging.info(f\"Missing values in dataset {name}: {dataset.isnull().sum().sum()}\")\n",
    "\n",
    "    for method_name, impute_method in impute_func.items():\n",
    "        logging.info(f\"Imputing with method: {method_name}\")\n",
    "        # Impute missing values\n",
    "        imputed_dataset = impute_method(dataset.copy())\n",
    "        # Save the imputed dataset as a .csv file\n",
    "        output_path = os.path.join(RESULTS_DIR, f\"{name}_{method_name}_imputed.csv\")\n",
    "        # Create directory if it doesn't exist\n",
    "        if not os.path.exists(RESULTS_DIR):\n",
    "            os.makedirs(RESULTS_DIR, exist_ok=True)\n",
    "        imputed_dataset.to_csv(output_path, index=True)\n",
    "        logging.info(f\"Saved imputed dataset to {output_path}\")\n"
   ]
  },
  {
   "cell_type": "code",
   "execution_count": 43,
   "metadata": {},
   "outputs": [],
   "source": [
    "# Plotting the imputed datasets\n",
    "def plot_imputed_data(imputed_data, method_name, dataset_name):\n",
    "    plt.figure(figsize=(10, 6))\n",
    "    sns.heatmap(imputed_data.isnull(), cbar=False, cmap='viridis')\n",
    "    plt.title(f\"Missing Values After Imputation ({method_name}) - {dataset_name}\")\n",
    "    plt.xlabel(\"Features\")\n",
    "    plt.ylabel(\"Samples\")\n",
    "    plt.savefig(os.path.join(RESULTS_DIR, f\"{dataset_name}_{method_name}_imputed_heatmap.png\"))\n",
    "    plt.close()\n",
    "    logging.info(f\"Saved heatmap for {dataset_name} with method {method_name}\")"
   ]
  },
  {
   "cell_type": "code",
   "execution_count": null,
   "metadata": {},
   "outputs": [],
   "source": []
  },
  {
   "cell_type": "code",
   "execution_count": 44,
   "metadata": {},
   "outputs": [
    {
     "name": "stderr",
     "output_type": "stream",
     "text": [
      "2025-04-08 23:50:35,552 - INFO - (impute_mean): Imputed missing values with mean\n",
      "2025-04-08 23:50:36,513 - INFO - Saved heatmap for missing_MAR_10 with method mean\n",
      "2025-04-08 23:50:36,523 - INFO - (impute_median): Imputed missing values with median\n",
      "2025-04-08 23:50:37,216 - INFO - Saved heatmap for missing_MAR_10 with method median\n",
      "2025-04-08 23:50:39,511 - INFO - (impute_knn): Imputed missing values using KNN\n",
      "2025-04-08 23:50:40,191 - INFO - Saved heatmap for missing_MAR_10 with method knn\n",
      "2025-04-08 23:50:40,196 - INFO - (impute_mean): Imputed missing values with mean\n",
      "2025-04-08 23:50:40,886 - INFO - Saved heatmap for missing_MAR_20 with method mean\n",
      "2025-04-08 23:50:40,895 - INFO - (impute_median): Imputed missing values with median\n",
      "2025-04-08 23:50:41,580 - INFO - Saved heatmap for missing_MAR_20 with method median\n",
      "2025-04-08 23:50:45,026 - INFO - (impute_knn): Imputed missing values using KNN\n",
      "2025-04-08 23:50:45,714 - INFO - Saved heatmap for missing_MAR_20 with method knn\n",
      "2025-04-08 23:50:45,719 - INFO - (impute_mean): Imputed missing values with mean\n",
      "2025-04-08 23:50:46,393 - INFO - Saved heatmap for missing_MAR_30 with method mean\n",
      "2025-04-08 23:50:46,402 - INFO - (impute_median): Imputed missing values with median\n",
      "2025-04-08 23:50:47,075 - INFO - Saved heatmap for missing_MAR_30 with method median\n",
      "2025-04-08 23:50:51,819 - INFO - (impute_knn): Imputed missing values using KNN\n",
      "2025-04-08 23:50:52,497 - INFO - Saved heatmap for missing_MAR_30 with method knn\n",
      "2025-04-08 23:50:52,502 - INFO - (impute_mean): Imputed missing values with mean\n",
      "2025-04-08 23:50:53,181 - INFO - Saved heatmap for missing_MCAR_10 with method mean\n",
      "2025-04-08 23:50:53,190 - INFO - (impute_median): Imputed missing values with median\n",
      "2025-04-08 23:50:53,864 - INFO - Saved heatmap for missing_MCAR_10 with method median\n",
      "2025-04-08 23:50:58,310 - INFO - (impute_knn): Imputed missing values using KNN\n",
      "2025-04-08 23:50:59,169 - INFO - Saved heatmap for missing_MCAR_10 with method knn\n",
      "2025-04-08 23:50:59,174 - INFO - (impute_mean): Imputed missing values with mean\n",
      "2025-04-08 23:50:59,865 - INFO - Saved heatmap for missing_MCAR_20 with method mean\n",
      "2025-04-08 23:50:59,874 - INFO - (impute_median): Imputed missing values with median\n",
      "2025-04-08 23:51:00,562 - INFO - Saved heatmap for missing_MCAR_20 with method median\n",
      "2025-04-08 23:51:06,554 - INFO - (impute_knn): Imputed missing values using KNN\n",
      "2025-04-08 23:51:07,259 - INFO - Saved heatmap for missing_MCAR_20 with method knn\n",
      "2025-04-08 23:51:07,264 - INFO - (impute_mean): Imputed missing values with mean\n",
      "2025-04-08 23:51:07,959 - INFO - Saved heatmap for missing_MCAR_30 with method mean\n",
      "2025-04-08 23:51:07,968 - INFO - (impute_median): Imputed missing values with median\n",
      "2025-04-08 23:51:08,649 - INFO - Saved heatmap for missing_MCAR_30 with method median\n",
      "2025-04-08 23:51:15,717 - INFO - (impute_knn): Imputed missing values using KNN\n",
      "2025-04-08 23:51:16,404 - INFO - Saved heatmap for missing_MCAR_30 with method knn\n",
      "2025-04-08 23:51:16,409 - INFO - (impute_mean): Imputed missing values with mean\n",
      "2025-04-08 23:51:17,089 - INFO - Saved heatmap for missing_MNAR_10 with method mean\n",
      "2025-04-08 23:51:17,098 - INFO - (impute_median): Imputed missing values with median\n",
      "2025-04-08 23:51:17,782 - INFO - Saved heatmap for missing_MNAR_10 with method median\n",
      "2025-04-08 23:51:21,881 - INFO - (impute_knn): Imputed missing values using KNN\n",
      "2025-04-08 23:51:22,568 - INFO - Saved heatmap for missing_MNAR_10 with method knn\n",
      "2025-04-08 23:51:22,573 - INFO - (impute_mean): Imputed missing values with mean\n",
      "2025-04-08 23:51:23,262 - INFO - Saved heatmap for missing_MNAR_20 with method mean\n",
      "2025-04-08 23:51:23,271 - INFO - (impute_median): Imputed missing values with median\n",
      "2025-04-08 23:51:23,964 - INFO - Saved heatmap for missing_MNAR_20 with method median\n",
      "2025-04-08 23:51:29,290 - INFO - (impute_knn): Imputed missing values using KNN\n",
      "2025-04-08 23:51:29,969 - INFO - Saved heatmap for missing_MNAR_20 with method knn\n",
      "2025-04-08 23:51:29,973 - INFO - (impute_mean): Imputed missing values with mean\n",
      "2025-04-08 23:51:30,648 - INFO - Saved heatmap for missing_MNAR_30 with method mean\n",
      "2025-04-08 23:51:30,658 - INFO - (impute_median): Imputed missing values with median\n",
      "2025-04-08 23:51:31,329 - INFO - Saved heatmap for missing_MNAR_30 with method median\n",
      "2025-04-08 23:51:37,391 - INFO - (impute_knn): Imputed missing values using KNN\n",
      "2025-04-08 23:51:38,073 - INFO - Saved heatmap for missing_MNAR_30 with method knn\n",
      "2025-04-08 23:51:38,077 - INFO - (impute_mean): Imputed missing values with mean\n",
      "2025-04-08 23:51:38,850 - INFO - Saved heatmap for normalized_data_complete with method mean\n",
      "2025-04-08 23:51:38,859 - INFO - (impute_median): Imputed missing values with median\n",
      "2025-04-08 23:51:39,537 - INFO - Saved heatmap for normalized_data_complete with method median\n",
      "2025-04-08 23:51:41,691 - INFO - (impute_knn): Imputed missing values using KNN\n",
      "2025-04-08 23:51:42,387 - INFO - Saved heatmap for normalized_data_complete with method knn\n"
     ]
    }
   ],
   "source": [
    "# Plot the imputed datasets\n",
    "for name, dataset in datasets.items():\n",
    "    for method_name, impute_method in impute_func.items():\n",
    "        imputed_dataset = impute_method(dataset.copy())\n",
    "        plot_imputed_data(imputed_dataset, method_name, name)"
   ]
  }
 ],
 "metadata": {
  "kernelspec": {
   "display_name": "Python 3",
   "language": "python",
   "name": "python3"
  },
  "language_info": {
   "codemirror_mode": {
    "name": "ipython",
    "version": 3
   },
   "file_extension": ".py",
   "mimetype": "text/x-python",
   "name": "python",
   "nbconvert_exporter": "python",
   "pygments_lexer": "ipython3",
   "version": "3.8.20"
  }
 },
 "nbformat": 4,
 "nbformat_minor": 2
}
